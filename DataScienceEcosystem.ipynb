{
 "cells": [
  {
   "cell_type": "markdown",
   "id": "91b88d4f-1a59-49d9-9b4e-abbb2e6fa225",
   "metadata": {},
   "source": [
    "# Data Science Tools and Ecosystem"
   ]
  },
  {
   "cell_type": "markdown",
   "id": "61cc1ffc-ad1f-4838-935c-b726bbd6be1b",
   "metadata": {},
   "source": [
    "In this notebook, Data Science Tools and Ecosystem are summarized."
   ]
  },
  {
   "cell_type": "markdown",
   "id": "03226747-df04-4d90-b479-af1e50b9b579",
   "metadata": {},
   "source": [
    "**Objectives:**\n",
    "- List popular languages for Data Science\n",
    "- List commonly used libraries by Data Scientists\n",
    "- List Data Science Tools\n",
    "- Show examples of arithmetic expressions"
   ]
  },
  {
   "cell_type": "markdown",
   "id": "0a161054-4a09-4913-8ff5-62c7aecbbcf4",
   "metadata": {},
   "source": [
    "Some of the popular languages that Data Scientists use are:\n",
    "1. Python\n",
    "2. R\n",
    "3. Julia\n",
    "4. C++"
   ]
  },
  {
   "cell_type": "markdown",
   "id": "e5bd5272-6153-4adb-9085-bd3330801299",
   "metadata": {},
   "source": [
    "Some of the commonly used libraries used by Data Scientists include:\n",
    "\n",
    "1. Pandas\n",
    "2. TensorFlow\n",
    "3. NumPy"
   ]
  },
  {
   "cell_type": "markdown",
   "id": "9190b071-7263-4d7e-9c5c-2ce641851066",
   "metadata": {},
   "source": [
    "Data Science Tools\n",
    "|---------------------|\n",
    "| Jupyter Notebook |\n",
    "| RStudio |\n",
    "| Visual Studio |\n"
   ]
  },
  {
   "cell_type": "markdown",
   "id": "71e873b1-4162-43fa-a4a1-64a6237db2fe",
   "metadata": {},
   "source": [
    "### Below are a few examples of evaluating arithmetic expressions in Python"
   ]
  },
  {
   "cell_type": "markdown",
   "id": "413e59cd-3c96-4b72-96dd-ce781f13bf3f",
   "metadata": {},
   "source": [
    "This a simple arithmetic expression to mutiply then add integers"
   ]
  },
  {
   "cell_type": "code",
   "execution_count": 3,
   "id": "7f2df7df-7a6d-43a6-bd9d-7eadfd4c9561",
   "metadata": {},
   "outputs": [
    {
     "data": {
      "text/plain": [
       "17"
      ]
     },
     "execution_count": 3,
     "metadata": {},
     "output_type": "execute_result"
    }
   ],
   "source": [
    "#addition operation\n",
    "(3*4)+5"
   ]
  },
  {
   "cell_type": "markdown",
   "id": "9b37a9ae-df1d-4b7b-9443-c8d2710f4f4b",
   "metadata": {},
   "source": [
    "This will convert 200 minutes to hours by dividng by 60"
   ]
  },
  {
   "cell_type": "code",
   "execution_count": 4,
   "id": "7ccd05b5-4d77-496c-a4fc-810ac5a8b89a",
   "metadata": {},
   "outputs": [
    {
     "data": {
      "text/plain": [
       "3.3333333333333335"
      ]
     },
     "execution_count": 4,
     "metadata": {},
     "output_type": "execute_result"
    }
   ],
   "source": [
    "#division operation\n",
    "200/60\n"
   ]
  },
  {
   "cell_type": "markdown",
   "id": "4727c1ad-2e60-4739-bba3-b4de1246a91f",
   "metadata": {},
   "source": [
    "## Author"
   ]
  },
  {
   "cell_type": "markdown",
   "id": "9e3077ff-1dfc-4e96-ab97-75601e02e110",
   "metadata": {},
   "source": [
    "Marianne"
   ]
  },
  {
   "cell_type": "code",
   "execution_count": null,
   "id": "22106f1b-7ff1-4dd2-8a91-f8d5dde12493",
   "metadata": {},
   "outputs": [],
   "source": []
  }
 ],
 "metadata": {
  "kernelspec": {
   "display_name": "Python 3 (ipykernel)",
   "language": "python",
   "name": "python3"
  },
  "language_info": {
   "codemirror_mode": {
    "name": "ipython",
    "version": 3
   },
   "file_extension": ".py",
   "mimetype": "text/x-python",
   "name": "python",
   "nbconvert_exporter": "python",
   "pygments_lexer": "ipython3",
   "version": "3.11.9"
  }
 },
 "nbformat": 4,
 "nbformat_minor": 5
}
